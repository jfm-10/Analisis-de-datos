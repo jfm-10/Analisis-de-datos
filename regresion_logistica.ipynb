{
 "cells": [
  {
   "cell_type": "code",
   "execution_count": 161,
   "metadata": {},
   "outputs": [],
   "source": [
    "import pandas as pd\n",
    "import numpy as np\n",
    "import seaborn as sns\n",
    "import matplotlib.pyplot as plt\n",
    "\n",
    "from sklearn import metrics\n",
    "from sklearn.model_selection import train_test_split\n",
    "from sklearn.linear_model import LogisticRegression\n",
    "from sklearn.metrics import confusion_matrix\n",
    "from sklearn.metrics import classification_report\n",
    "from sklearn.preprocessing import LabelEncoder\n"
   ]
  },
  {
   "cell_type": "markdown",
   "metadata": {},
   "source": [
    "Leer archivo csv"
   ]
  },
  {
   "cell_type": "code",
   "execution_count": 162,
   "metadata": {},
   "outputs": [
    {
     "name": "stdout",
     "output_type": "stream",
     "text": [
      "   age  sex  cp  trestbps  chol  fbs  restecg  thalach  exang  oldpeak  slope  \\\n",
      "0   69    1   0       160   234    1        2      131      0      0.1      1   \n",
      "1   69    0   0       140   239    0        0      151      0      1.8      0   \n",
      "2   66    0   0       150   226    0        0      114      0      2.6      2   \n",
      "3   65    1   0       138   282    1        2      174      0      1.4      1   \n",
      "4   64    1   0       110   211    0        2      144      1      1.8      1   \n",
      "5   64    1   0       170   227    0        2      155      0      0.6      1   \n",
      "6   63    1   0       145   233    1        2      150      0      2.3      2   \n",
      "7   61    1   0       134   234    0        0      145      0      2.6      1   \n",
      "8   60    0   0       150   240    0        0      171      0      0.9      0   \n",
      "9   59    1   0       178   270    0        2      145      0      4.2      2   \n",
      "\n",
      "   ca  thal  condition  \n",
      "0   1     0          0  \n",
      "1   2     0          0  \n",
      "2   0     0          0  \n",
      "3   1     0          1  \n",
      "4   0     0          0  \n",
      "5   0     2          0  \n",
      "6   0     1          0  \n",
      "7   2     0          1  \n",
      "8   0     0          0  \n",
      "9   0     2          0  \n"
     ]
    }
   ],
   "source": [
    "datos = pd.read_csv(r'C:\\Users\\alejo\\OneDrive\\Documentos\\UNAD\\SEMESTRE 4\\ANÁLISIS DE DATOS\\Tarea 3\\Anexo 3 - Dataset Heart Disease Cleveland UCI\\heart_cleveland_upload.csv')\n",
    "print (datos.head(10))"
   ]
  },
  {
   "cell_type": "markdown",
   "metadata": {},
   "source": [
    "Exploración de los datos"
   ]
  },
  {
   "cell_type": "code",
   "execution_count": 163,
   "metadata": {},
   "outputs": [
    {
     "data": {
      "text/html": [
       "<div>\n",
       "<style scoped>\n",
       "    .dataframe tbody tr th:only-of-type {\n",
       "        vertical-align: middle;\n",
       "    }\n",
       "\n",
       "    .dataframe tbody tr th {\n",
       "        vertical-align: top;\n",
       "    }\n",
       "\n",
       "    .dataframe thead th {\n",
       "        text-align: right;\n",
       "    }\n",
       "</style>\n",
       "<table border=\"1\" class=\"dataframe\">\n",
       "  <thead>\n",
       "    <tr style=\"text-align: right;\">\n",
       "      <th></th>\n",
       "      <th>age</th>\n",
       "      <th>sex</th>\n",
       "      <th>cp</th>\n",
       "      <th>trestbps</th>\n",
       "      <th>chol</th>\n",
       "      <th>fbs</th>\n",
       "      <th>restecg</th>\n",
       "      <th>thalach</th>\n",
       "      <th>exang</th>\n",
       "      <th>oldpeak</th>\n",
       "      <th>slope</th>\n",
       "      <th>ca</th>\n",
       "      <th>thal</th>\n",
       "      <th>condition</th>\n",
       "    </tr>\n",
       "  </thead>\n",
       "  <tbody>\n",
       "    <tr>\n",
       "      <th>count</th>\n",
       "      <td>297.000000</td>\n",
       "      <td>297.000000</td>\n",
       "      <td>297.000000</td>\n",
       "      <td>297.000000</td>\n",
       "      <td>297.000000</td>\n",
       "      <td>297.000000</td>\n",
       "      <td>297.000000</td>\n",
       "      <td>297.000000</td>\n",
       "      <td>297.000000</td>\n",
       "      <td>297.000000</td>\n",
       "      <td>297.000000</td>\n",
       "      <td>297.000000</td>\n",
       "      <td>297.000000</td>\n",
       "      <td>297.000000</td>\n",
       "    </tr>\n",
       "    <tr>\n",
       "      <th>mean</th>\n",
       "      <td>54.542088</td>\n",
       "      <td>0.676768</td>\n",
       "      <td>2.158249</td>\n",
       "      <td>131.693603</td>\n",
       "      <td>247.350168</td>\n",
       "      <td>0.144781</td>\n",
       "      <td>0.996633</td>\n",
       "      <td>149.599327</td>\n",
       "      <td>0.326599</td>\n",
       "      <td>1.055556</td>\n",
       "      <td>0.602694</td>\n",
       "      <td>0.676768</td>\n",
       "      <td>0.835017</td>\n",
       "      <td>0.461279</td>\n",
       "    </tr>\n",
       "    <tr>\n",
       "      <th>std</th>\n",
       "      <td>9.049736</td>\n",
       "      <td>0.468500</td>\n",
       "      <td>0.964859</td>\n",
       "      <td>17.762806</td>\n",
       "      <td>51.997583</td>\n",
       "      <td>0.352474</td>\n",
       "      <td>0.994914</td>\n",
       "      <td>22.941562</td>\n",
       "      <td>0.469761</td>\n",
       "      <td>1.166123</td>\n",
       "      <td>0.618187</td>\n",
       "      <td>0.938965</td>\n",
       "      <td>0.956690</td>\n",
       "      <td>0.499340</td>\n",
       "    </tr>\n",
       "    <tr>\n",
       "      <th>min</th>\n",
       "      <td>29.000000</td>\n",
       "      <td>0.000000</td>\n",
       "      <td>0.000000</td>\n",
       "      <td>94.000000</td>\n",
       "      <td>126.000000</td>\n",
       "      <td>0.000000</td>\n",
       "      <td>0.000000</td>\n",
       "      <td>71.000000</td>\n",
       "      <td>0.000000</td>\n",
       "      <td>0.000000</td>\n",
       "      <td>0.000000</td>\n",
       "      <td>0.000000</td>\n",
       "      <td>0.000000</td>\n",
       "      <td>0.000000</td>\n",
       "    </tr>\n",
       "    <tr>\n",
       "      <th>25%</th>\n",
       "      <td>48.000000</td>\n",
       "      <td>0.000000</td>\n",
       "      <td>2.000000</td>\n",
       "      <td>120.000000</td>\n",
       "      <td>211.000000</td>\n",
       "      <td>0.000000</td>\n",
       "      <td>0.000000</td>\n",
       "      <td>133.000000</td>\n",
       "      <td>0.000000</td>\n",
       "      <td>0.000000</td>\n",
       "      <td>0.000000</td>\n",
       "      <td>0.000000</td>\n",
       "      <td>0.000000</td>\n",
       "      <td>0.000000</td>\n",
       "    </tr>\n",
       "    <tr>\n",
       "      <th>50%</th>\n",
       "      <td>56.000000</td>\n",
       "      <td>1.000000</td>\n",
       "      <td>2.000000</td>\n",
       "      <td>130.000000</td>\n",
       "      <td>243.000000</td>\n",
       "      <td>0.000000</td>\n",
       "      <td>1.000000</td>\n",
       "      <td>153.000000</td>\n",
       "      <td>0.000000</td>\n",
       "      <td>0.800000</td>\n",
       "      <td>1.000000</td>\n",
       "      <td>0.000000</td>\n",
       "      <td>0.000000</td>\n",
       "      <td>0.000000</td>\n",
       "    </tr>\n",
       "    <tr>\n",
       "      <th>75%</th>\n",
       "      <td>61.000000</td>\n",
       "      <td>1.000000</td>\n",
       "      <td>3.000000</td>\n",
       "      <td>140.000000</td>\n",
       "      <td>276.000000</td>\n",
       "      <td>0.000000</td>\n",
       "      <td>2.000000</td>\n",
       "      <td>166.000000</td>\n",
       "      <td>1.000000</td>\n",
       "      <td>1.600000</td>\n",
       "      <td>1.000000</td>\n",
       "      <td>1.000000</td>\n",
       "      <td>2.000000</td>\n",
       "      <td>1.000000</td>\n",
       "    </tr>\n",
       "    <tr>\n",
       "      <th>max</th>\n",
       "      <td>77.000000</td>\n",
       "      <td>1.000000</td>\n",
       "      <td>3.000000</td>\n",
       "      <td>200.000000</td>\n",
       "      <td>564.000000</td>\n",
       "      <td>1.000000</td>\n",
       "      <td>2.000000</td>\n",
       "      <td>202.000000</td>\n",
       "      <td>1.000000</td>\n",
       "      <td>6.200000</td>\n",
       "      <td>2.000000</td>\n",
       "      <td>3.000000</td>\n",
       "      <td>2.000000</td>\n",
       "      <td>1.000000</td>\n",
       "    </tr>\n",
       "  </tbody>\n",
       "</table>\n",
       "</div>"
      ],
      "text/plain": [
       "              age         sex          cp    trestbps        chol         fbs  \\\n",
       "count  297.000000  297.000000  297.000000  297.000000  297.000000  297.000000   \n",
       "mean    54.542088    0.676768    2.158249  131.693603  247.350168    0.144781   \n",
       "std      9.049736    0.468500    0.964859   17.762806   51.997583    0.352474   \n",
       "min     29.000000    0.000000    0.000000   94.000000  126.000000    0.000000   \n",
       "25%     48.000000    0.000000    2.000000  120.000000  211.000000    0.000000   \n",
       "50%     56.000000    1.000000    2.000000  130.000000  243.000000    0.000000   \n",
       "75%     61.000000    1.000000    3.000000  140.000000  276.000000    0.000000   \n",
       "max     77.000000    1.000000    3.000000  200.000000  564.000000    1.000000   \n",
       "\n",
       "          restecg     thalach       exang     oldpeak       slope          ca  \\\n",
       "count  297.000000  297.000000  297.000000  297.000000  297.000000  297.000000   \n",
       "mean     0.996633  149.599327    0.326599    1.055556    0.602694    0.676768   \n",
       "std      0.994914   22.941562    0.469761    1.166123    0.618187    0.938965   \n",
       "min      0.000000   71.000000    0.000000    0.000000    0.000000    0.000000   \n",
       "25%      0.000000  133.000000    0.000000    0.000000    0.000000    0.000000   \n",
       "50%      1.000000  153.000000    0.000000    0.800000    1.000000    0.000000   \n",
       "75%      2.000000  166.000000    1.000000    1.600000    1.000000    1.000000   \n",
       "max      2.000000  202.000000    1.000000    6.200000    2.000000    3.000000   \n",
       "\n",
       "             thal   condition  \n",
       "count  297.000000  297.000000  \n",
       "mean     0.835017    0.461279  \n",
       "std      0.956690    0.499340  \n",
       "min      0.000000    0.000000  \n",
       "25%      0.000000    0.000000  \n",
       "50%      0.000000    0.000000  \n",
       "75%      2.000000    1.000000  \n",
       "max      2.000000    1.000000  "
      ]
     },
     "execution_count": 163,
     "metadata": {},
     "output_type": "execute_result"
    }
   ],
   "source": [
    "datos.describe()"
   ]
  },
  {
   "cell_type": "markdown",
   "metadata": {},
   "source": [
    "Identificación de datos faltantes y atipicos y renombrando los encabezados del df"
   ]
  },
  {
   "cell_type": "code",
   "execution_count": 164,
   "metadata": {},
   "outputs": [
    {
     "data": {
      "text/html": [
       "<div>\n",
       "<style scoped>\n",
       "    .dataframe tbody tr th:only-of-type {\n",
       "        vertical-align: middle;\n",
       "    }\n",
       "\n",
       "    .dataframe tbody tr th {\n",
       "        vertical-align: top;\n",
       "    }\n",
       "\n",
       "    .dataframe thead th {\n",
       "        text-align: right;\n",
       "    }\n",
       "</style>\n",
       "<table border=\"1\" class=\"dataframe\">\n",
       "  <thead>\n",
       "    <tr style=\"text-align: right;\">\n",
       "      <th></th>\n",
       "      <th>edad</th>\n",
       "      <th>sexo</th>\n",
       "      <th>tipo_dolor_pecho</th>\n",
       "      <th>presion_arterial_reposo</th>\n",
       "      <th>colesterol</th>\n",
       "      <th>azucar_ayunas</th>\n",
       "      <th>resultados_electrocardiograma_reposo</th>\n",
       "      <th>frecuencia_cardiaca_maxima</th>\n",
       "      <th>angina_inducida_ejercicio</th>\n",
       "      <th>depresion_st_ejercicio</th>\n",
       "      <th>pendiente_segmento_st</th>\n",
       "      <th>num_vasos_colorados</th>\n",
       "      <th>defecto_talasemia</th>\n",
       "      <th>condicion</th>\n",
       "    </tr>\n",
       "  </thead>\n",
       "  <tbody>\n",
       "    <tr>\n",
       "      <th>count</th>\n",
       "      <td>297.000000</td>\n",
       "      <td>297.000000</td>\n",
       "      <td>297.000000</td>\n",
       "      <td>297.000000</td>\n",
       "      <td>297.000000</td>\n",
       "      <td>297.000000</td>\n",
       "      <td>297.000000</td>\n",
       "      <td>297.000000</td>\n",
       "      <td>297.000000</td>\n",
       "      <td>297.000000</td>\n",
       "      <td>297.000000</td>\n",
       "      <td>297.000000</td>\n",
       "      <td>297.000000</td>\n",
       "      <td>297.000000</td>\n",
       "    </tr>\n",
       "    <tr>\n",
       "      <th>mean</th>\n",
       "      <td>54.542088</td>\n",
       "      <td>0.676768</td>\n",
       "      <td>2.158249</td>\n",
       "      <td>131.693603</td>\n",
       "      <td>247.350168</td>\n",
       "      <td>0.144781</td>\n",
       "      <td>0.996633</td>\n",
       "      <td>149.599327</td>\n",
       "      <td>0.326599</td>\n",
       "      <td>1.055556</td>\n",
       "      <td>0.602694</td>\n",
       "      <td>0.676768</td>\n",
       "      <td>0.835017</td>\n",
       "      <td>0.461279</td>\n",
       "    </tr>\n",
       "    <tr>\n",
       "      <th>std</th>\n",
       "      <td>9.049736</td>\n",
       "      <td>0.468500</td>\n",
       "      <td>0.964859</td>\n",
       "      <td>17.762806</td>\n",
       "      <td>51.997583</td>\n",
       "      <td>0.352474</td>\n",
       "      <td>0.994914</td>\n",
       "      <td>22.941562</td>\n",
       "      <td>0.469761</td>\n",
       "      <td>1.166123</td>\n",
       "      <td>0.618187</td>\n",
       "      <td>0.938965</td>\n",
       "      <td>0.956690</td>\n",
       "      <td>0.499340</td>\n",
       "    </tr>\n",
       "    <tr>\n",
       "      <th>min</th>\n",
       "      <td>29.000000</td>\n",
       "      <td>0.000000</td>\n",
       "      <td>0.000000</td>\n",
       "      <td>94.000000</td>\n",
       "      <td>126.000000</td>\n",
       "      <td>0.000000</td>\n",
       "      <td>0.000000</td>\n",
       "      <td>71.000000</td>\n",
       "      <td>0.000000</td>\n",
       "      <td>0.000000</td>\n",
       "      <td>0.000000</td>\n",
       "      <td>0.000000</td>\n",
       "      <td>0.000000</td>\n",
       "      <td>0.000000</td>\n",
       "    </tr>\n",
       "    <tr>\n",
       "      <th>25%</th>\n",
       "      <td>48.000000</td>\n",
       "      <td>0.000000</td>\n",
       "      <td>2.000000</td>\n",
       "      <td>120.000000</td>\n",
       "      <td>211.000000</td>\n",
       "      <td>0.000000</td>\n",
       "      <td>0.000000</td>\n",
       "      <td>133.000000</td>\n",
       "      <td>0.000000</td>\n",
       "      <td>0.000000</td>\n",
       "      <td>0.000000</td>\n",
       "      <td>0.000000</td>\n",
       "      <td>0.000000</td>\n",
       "      <td>0.000000</td>\n",
       "    </tr>\n",
       "    <tr>\n",
       "      <th>50%</th>\n",
       "      <td>56.000000</td>\n",
       "      <td>1.000000</td>\n",
       "      <td>2.000000</td>\n",
       "      <td>130.000000</td>\n",
       "      <td>243.000000</td>\n",
       "      <td>0.000000</td>\n",
       "      <td>1.000000</td>\n",
       "      <td>153.000000</td>\n",
       "      <td>0.000000</td>\n",
       "      <td>0.800000</td>\n",
       "      <td>1.000000</td>\n",
       "      <td>0.000000</td>\n",
       "      <td>0.000000</td>\n",
       "      <td>0.000000</td>\n",
       "    </tr>\n",
       "    <tr>\n",
       "      <th>75%</th>\n",
       "      <td>61.000000</td>\n",
       "      <td>1.000000</td>\n",
       "      <td>3.000000</td>\n",
       "      <td>140.000000</td>\n",
       "      <td>276.000000</td>\n",
       "      <td>0.000000</td>\n",
       "      <td>2.000000</td>\n",
       "      <td>166.000000</td>\n",
       "      <td>1.000000</td>\n",
       "      <td>1.600000</td>\n",
       "      <td>1.000000</td>\n",
       "      <td>1.000000</td>\n",
       "      <td>2.000000</td>\n",
       "      <td>1.000000</td>\n",
       "    </tr>\n",
       "    <tr>\n",
       "      <th>max</th>\n",
       "      <td>77.000000</td>\n",
       "      <td>1.000000</td>\n",
       "      <td>3.000000</td>\n",
       "      <td>200.000000</td>\n",
       "      <td>564.000000</td>\n",
       "      <td>1.000000</td>\n",
       "      <td>2.000000</td>\n",
       "      <td>202.000000</td>\n",
       "      <td>1.000000</td>\n",
       "      <td>6.200000</td>\n",
       "      <td>2.000000</td>\n",
       "      <td>3.000000</td>\n",
       "      <td>2.000000</td>\n",
       "      <td>1.000000</td>\n",
       "    </tr>\n",
       "  </tbody>\n",
       "</table>\n",
       "</div>"
      ],
      "text/plain": [
       "             edad        sexo  tipo_dolor_pecho  presion_arterial_reposo  \\\n",
       "count  297.000000  297.000000        297.000000               297.000000   \n",
       "mean    54.542088    0.676768          2.158249               131.693603   \n",
       "std      9.049736    0.468500          0.964859                17.762806   \n",
       "min     29.000000    0.000000          0.000000                94.000000   \n",
       "25%     48.000000    0.000000          2.000000               120.000000   \n",
       "50%     56.000000    1.000000          2.000000               130.000000   \n",
       "75%     61.000000    1.000000          3.000000               140.000000   \n",
       "max     77.000000    1.000000          3.000000               200.000000   \n",
       "\n",
       "       colesterol  azucar_ayunas  resultados_electrocardiograma_reposo  \\\n",
       "count  297.000000     297.000000                            297.000000   \n",
       "mean   247.350168       0.144781                              0.996633   \n",
       "std     51.997583       0.352474                              0.994914   \n",
       "min    126.000000       0.000000                              0.000000   \n",
       "25%    211.000000       0.000000                              0.000000   \n",
       "50%    243.000000       0.000000                              1.000000   \n",
       "75%    276.000000       0.000000                              2.000000   \n",
       "max    564.000000       1.000000                              2.000000   \n",
       "\n",
       "       frecuencia_cardiaca_maxima  angina_inducida_ejercicio  \\\n",
       "count                  297.000000                 297.000000   \n",
       "mean                   149.599327                   0.326599   \n",
       "std                     22.941562                   0.469761   \n",
       "min                     71.000000                   0.000000   \n",
       "25%                    133.000000                   0.000000   \n",
       "50%                    153.000000                   0.000000   \n",
       "75%                    166.000000                   1.000000   \n",
       "max                    202.000000                   1.000000   \n",
       "\n",
       "       depresion_st_ejercicio  pendiente_segmento_st  num_vasos_colorados  \\\n",
       "count              297.000000             297.000000           297.000000   \n",
       "mean                 1.055556               0.602694             0.676768   \n",
       "std                  1.166123               0.618187             0.938965   \n",
       "min                  0.000000               0.000000             0.000000   \n",
       "25%                  0.000000               0.000000             0.000000   \n",
       "50%                  0.800000               1.000000             0.000000   \n",
       "75%                  1.600000               1.000000             1.000000   \n",
       "max                  6.200000               2.000000             3.000000   \n",
       "\n",
       "       defecto_talasemia   condicion  \n",
       "count         297.000000  297.000000  \n",
       "mean            0.835017    0.461279  \n",
       "std             0.956690    0.499340  \n",
       "min             0.000000    0.000000  \n",
       "25%             0.000000    0.000000  \n",
       "50%             0.000000    0.000000  \n",
       "75%             2.000000    1.000000  \n",
       "max             2.000000    1.000000  "
      ]
     },
     "execution_count": 164,
     "metadata": {},
     "output_type": "execute_result"
    }
   ],
   "source": [
    "nuevos_nombres = {\n",
    "    'age': 'edad',\n",
    "    'sex': 'sexo',\n",
    "    'cp': 'tipo_dolor_pecho',\n",
    "    'trestbps': 'presion_arterial_reposo',\n",
    "    'chol': 'colesterol',\n",
    "    'fbs': 'azucar_ayunas',\n",
    "    'restecg': 'resultados_electrocardiograma_reposo',\n",
    "    'thalach': 'frecuencia_cardiaca_maxima',\n",
    "    'exang': 'angina_inducida_ejercicio',\n",
    "    'oldpeak': 'depresion_st_ejercicio',\n",
    "    'slope': 'pendiente_segmento_st',\n",
    "    'ca': 'num_vasos_colorados',\n",
    "    'thal': 'defecto_talasemia',\n",
    "    'condition': 'condicion'}\n",
    "    \n",
    "datos = datos.rename(columns=nuevos_nombres)\n",
    "datos.describe()"
   ]
  },
  {
   "cell_type": "code",
   "execution_count": 165,
   "metadata": {},
   "outputs": [
    {
     "name": "stderr",
     "output_type": "stream",
     "text": [
      "c:\\Users\\alejo\\anaconda3\\Lib\\site-packages\\seaborn\\_oldcore.py:1498: FutureWarning: is_categorical_dtype is deprecated and will be removed in a future version. Use isinstance(dtype, CategoricalDtype) instead\n",
      "  if pd.api.types.is_categorical_dtype(vector):\n"
     ]
    },
    {
     "data": {
      "text/plain": [
       "Text(0.5, 1.0, 'Identiricación de datos faltantes y atípicos')"
      ]
     },
     "execution_count": 165,
     "metadata": {},
     "output_type": "execute_result"
    },
    {
     "data": {
      "image/png": "[encoded data removed]",
      "text/plain": [
       "<Figure size 600x300 with 1 Axes>"
      ]
     },
     "metadata": {},
     "output_type": "display_data"
    }
   ],
   "source": [
    "plt.figure(figsize=(6,3))\n",
    "sns.boxplot(x=datos['azucar_ayunas'])\n",
    "plt.title('Identiricación de datos faltantes y atípicos', fontsize=10)"
   ]
  },
  {
   "cell_type": "code",
   "execution_count": 166,
   "metadata": {},
   "outputs": [
    {
     "name": "stderr",
     "output_type": "stream",
     "text": [
      "c:\\Users\\alejo\\anaconda3\\Lib\\site-packages\\seaborn\\_oldcore.py:1498: FutureWarning: is_categorical_dtype is deprecated and will be removed in a future version. Use isinstance(dtype, CategoricalDtype) instead\n",
      "  if pd.api.types.is_categorical_dtype(vector):\n"
     ]
    },
    {
     "data": {
      "text/plain": [
       "Text(0.5, 1.0, 'Identiricación de datos faltantes y atípicos')"
      ]
     },
     "execution_count": 166,
     "metadata": {},
     "output_type": "execute_result"
    },
    {
     "data": {
      "image/png": "[encoded data removed]",
      "text/plain": [
       "<Figure size 600x300 with 1 Axes>"
      ]
     },
     "metadata": {},
     "output_type": "display_data"
    }
   ],
   "source": [
    "plt.figure(figsize=(6,3))\n",
    "sns.boxplot(x=datos['azucar_ayunas'])\n",
    "plt.title('Identiricación de datos faltantes y atípicos', fontsize=10)"
   ]
  },
  {
   "cell_type": "markdown",
   "metadata": {},
   "source": [
    "Revision de datos faltantes y atipicos en código"
   ]
  },
  {
   "cell_type": "code",
   "execution_count": 167,
   "metadata": {},
   "outputs": [
    {
     "name": "stdout",
     "output_type": "stream",
     "text": [
      "Cantidad de registros con cero en la variable \"edad\": 0\n",
      "Cantidad de registros con cero en la variable \"sexo\": 96\n",
      "Cantidad de registros con cero en la variable \"tipo_dolor_pecho\": 23\n",
      "Cantidad de registros con cero en la variable \"presion_arterial_reposo\": 0\n",
      "Cantidad de registros con cero en la variable \"colesterol\": 0\n",
      "Cantidad de registros con cero en la variable \"azucar_ayunas\": 254\n",
      "Cantidad de registros con cero en la variable \"resultados_electrocardiograma_reposo\": 147\n",
      "Cantidad de registros con cero en la variable \"frecuencia_cardiaca_maxima\": 0\n",
      "Cantidad de registros con cero en la variable \"angina_inducida_ejercicio\": 200\n",
      "Cantidad de registros con cero en la variable \"depresion_st_ejercicio\": 96\n",
      "Cantidad de registros con cero en la variable \"pendiente_segmento_st\": 139\n",
      "Cantidad de registros con cero en la variable \"num_vasos_colorados\": 174\n",
      "Cantidad de registros con cero en la variable \"defecto_talasemia\": 164\n",
      "Cantidad de registros con cero en la variable \"condicion\": 160\n"
     ]
    }
   ],
   "source": [
    "def print_zero_counts(column_name):\n",
    "    counts = datos[column_name].value_counts()\n",
    "    zero_count = counts[0] if 0 in counts else 0\n",
    "    print(f'Cantidad de registros con cero en la variable \"{column_name}\":', zero_count)\n",
    "\n",
    "print_zero_counts('edad')\n",
    "print_zero_counts('sexo')\n",
    "print_zero_counts('tipo_dolor_pecho')\n",
    "print_zero_counts('presion_arterial_reposo')\n",
    "print_zero_counts('colesterol')\n",
    "print_zero_counts('azucar_ayunas')\n",
    "print_zero_counts('resultados_electrocardiograma_reposo')\n",
    "print_zero_counts('frecuencia_cardiaca_maxima')\n",
    "print_zero_counts('angina_inducida_ejercicio')\n",
    "print_zero_counts('depresion_st_ejercicio')\n",
    "print_zero_counts('pendiente_segmento_st')\n",
    "print_zero_counts('num_vasos_colorados')\n",
    "print_zero_counts('defecto_talasemia')\n",
    "print_zero_counts('condicion')"
   ]
  },
  {
   "cell_type": "markdown",
   "metadata": {},
   "source": [
    "Reemplazar todos los ceros con el valor medio  (promedio) de la columna"
   ]
  },
  {
   "cell_type": "code",
   "execution_count": 168,
   "metadata": {},
   "outputs": [],
   "source": [
    "datos['sexo'] = datos['sexo'].replace(0, datos['sexo'].mean())\n",
    "datos['tipo_dolor_pecho'] = datos['tipo_dolor_pecho'].replace(0, datos['tipo_dolor_pecho'].mean())\n",
    "datos['azucar_ayunas'] = datos['azucar_ayunas'].replace(0, datos['azucar_ayunas'].mean())\n",
    "datos['resultados_electrocardiograma_reposo'] = datos['resultados_electrocardiograma_reposo'].replace(0, datos['resultados_electrocardiograma_reposo'].mean())\n",
    "datos['angina_inducida_ejercicio'] = datos['angina_inducida_ejercicio'].replace(0, datos['angina_inducida_ejercicio'].mean())\n",
    "datos['depresion_st_ejercicio'] = datos['depresion_st_ejercicio'].replace(0, datos['depresion_st_ejercicio'].mean())\n",
    "datos['pendiente_segmento_st'] = datos['pendiente_segmento_st'].replace(0, datos['pendiente_segmento_st'].mean())\n",
    "datos['num_vasos_colorados'] = datos['num_vasos_colorados'].replace(0, datos['num_vasos_colorados'].mean())\n",
    "datos['defecto_talasemia'] = datos['defecto_talasemia'].replace(0, datos['defecto_talasemia'].mean())\n",
    "datos['condicion'] = datos['condicion'].replace(0, datos['condicion'].mean())"
   ]
  },
  {
   "cell_type": "markdown",
   "metadata": {},
   "source": [
    "Nueva revisión de los datos faltantes"
   ]
  },
  {
   "cell_type": "code",
   "execution_count": 169,
   "metadata": {},
   "outputs": [
    {
     "name": "stdout",
     "output_type": "stream",
     "text": [
      "Cantidad de registros con cero en la variable \"edad\": 0\n",
      "Cantidad de registros con cero en la variable \"sexo\": 0\n",
      "Cantidad de registros con cero en la variable \"tipo_dolor_pecho\": 0\n",
      "Cantidad de registros con cero en la variable \"presion_arterial_reposo\": 0\n",
      "Cantidad de registros con cero en la variable \"colesterol\": 0\n",
      "Cantidad de registros con cero en la variable \"azucar_ayunas\": 0\n",
      "Cantidad de registros con cero en la variable \"resultados_electrocardiograma_reposo\": 0\n",
      "Cantidad de registros con cero en la variable \"frecuencia_cardiaca_maxima\": 0\n",
      "Cantidad de registros con cero en la variable \"angina_inducida_ejercicio\": 0\n",
      "Cantidad de registros con cero en la variable \"depresion_st_ejercicio\": 0\n",
      "Cantidad de registros con cero en la variable \"pendiente_segmento_st\": 0\n",
      "Cantidad de registros con cero en la variable \"num_vasos_colorados\": 0\n",
      "Cantidad de registros con cero en la variable \"defecto_talasemia\": 0\n",
      "Cantidad de registros con cero en la variable \"condicion\": 0\n"
     ]
    }
   ],
   "source": [
    "def print_zero_counts(column_name):\n",
    "    counts = datos[column_name].value_counts()\n",
    "    zero_count = counts[0] if 0 in counts else 0\n",
    "    print(f'Cantidad de registros con cero en la variable \"{column_name}\":', zero_count)\n",
    "\n",
    "print_zero_counts('edad')\n",
    "print_zero_counts('sexo')\n",
    "print_zero_counts('tipo_dolor_pecho')\n",
    "print_zero_counts('presion_arterial_reposo')\n",
    "print_zero_counts('colesterol')\n",
    "print_zero_counts('azucar_ayunas')\n",
    "print_zero_counts('resultados_electrocardiograma_reposo')\n",
    "print_zero_counts('frecuencia_cardiaca_maxima')\n",
    "print_zero_counts('angina_inducida_ejercicio')\n",
    "print_zero_counts('depresion_st_ejercicio')\n",
    "print_zero_counts('pendiente_segmento_st')\n",
    "print_zero_counts('num_vasos_colorados')\n",
    "print_zero_counts('defecto_talasemia')\n",
    "print_zero_counts('condicion')"
   ]
  },
  {
   "cell_type": "markdown",
   "metadata": {},
   "source": [
    "Identificación de datos atípicos"
   ]
  },
  {
   "cell_type": "code",
   "execution_count": 170,
   "metadata": {},
   "outputs": [
    {
     "name": "stderr",
     "output_type": "stream",
     "text": [
      "c:\\Users\\alejo\\anaconda3\\Lib\\site-packages\\seaborn\\_oldcore.py:1498: FutureWarning: is_categorical_dtype is deprecated and will be removed in a future version. Use isinstance(dtype, CategoricalDtype) instead\n",
      "  if pd.api.types.is_categorical_dtype(vector):\n"
     ]
    },
    {
     "data": {
      "text/plain": [
       "Text(0.5, 1.0, 'Identiricación de datos atípicos')"
      ]
     },
     "execution_count": 170,
     "metadata": {},
     "output_type": "execute_result"
    },
    {
     "data": {
      "image/png": "[encoded data removed]",
      "text/plain": [
       "<Figure size 600x300 with 1 Axes>"
      ]
     },
     "metadata": {},
     "output_type": "display_data"
    }
   ],
   "source": [
    "plt.figure(figsize=(6,3))\n",
    "sns.boxplot(x=datos['colesterol'])\n",
    "plt.title('Identiricación de datos atípicos', fontsize=10)\n"
   ]
  },
  {
   "cell_type": "markdown",
   "metadata": {},
   "source": [
    "conteo de datos atípicos"
   ]
  },
  {
   "cell_type": "code",
   "execution_count": 171,
   "metadata": {},
   "outputs": [
    {
     "name": "stdout",
     "output_type": "stream",
     "text": [
      "El total de datos atipicos es 5\n"
     ]
    }
   ],
   "source": [
    "nivel_minimo = 150\n",
    "nivel_maximo = 800\n",
    "total_atipicos = ((datos['colesterol'] < nivel_minimo) | (datos['colesterol'] > nivel_maximo)).sum()\n",
    "print('El total de datos atipicos es {}'.format(total_atipicos))\n"
   ]
  },
  {
   "cell_type": "markdown",
   "metadata": {},
   "source": [
    "Filtrado de datos atípicos"
   ]
  },
  {
   "cell_type": "code",
   "execution_count": 172,
   "metadata": {},
   "outputs": [],
   "source": [
    "datos = datos[(datos['colesterol'] >= nivel_minimo) & (datos['colesterol'] <= nivel_maximo)]"
   ]
  },
  {
   "cell_type": "markdown",
   "metadata": {},
   "source": [
    "validar si se removieron los datos atipicos"
   ]
  },
  {
   "cell_type": "code",
   "execution_count": 173,
   "metadata": {},
   "outputs": [
    {
     "name": "stdout",
     "output_type": "stream",
     "text": [
      "El total de datos atipicos es 0\n"
     ]
    }
   ],
   "source": [
    "total_atipicos = ((datos['colesterol'] < nivel_minimo) | (datos['colesterol'] > nivel_maximo)).sum()\n",
    "print('El total de datos atipicos es {}'.format(total_atipicos))"
   ]
  },
  {
   "cell_type": "markdown",
   "metadata": {},
   "source": [
    "Revisión del tipo de datos y datos faltantes"
   ]
  },
  {
   "cell_type": "code",
   "execution_count": 174,
   "metadata": {},
   "outputs": [
    {
     "name": "stdout",
     "output_type": "stream",
     "text": [
      "<class 'pandas.core.frame.DataFrame'>\n",
      "Index: 292 entries, 0 to 296\n",
      "Data columns (total 14 columns):\n",
      " #   Column                                Non-Null Count  Dtype  \n",
      "---  ------                                --------------  -----  \n",
      " 0   edad                                  292 non-null    int64  \n",
      " 1   sexo                                  292 non-null    float64\n",
      " 2   tipo_dolor_pecho                      292 non-null    float64\n",
      " 3   presion_arterial_reposo               292 non-null    int64  \n",
      " 4   colesterol                            292 non-null    int64  \n",
      " 5   azucar_ayunas                         292 non-null    float64\n",
      " 6   resultados_electrocardiograma_reposo  292 non-null    float64\n",
      " 7   frecuencia_cardiaca_maxima            292 non-null    int64  \n",
      " 8   angina_inducida_ejercicio             292 non-null    float64\n",
      " 9   depresion_st_ejercicio                292 non-null    float64\n",
      " 10  pendiente_segmento_st                 292 non-null    float64\n",
      " 11  num_vasos_colorados                   292 non-null    float64\n",
      " 12  defecto_talasemia                     292 non-null    float64\n",
      " 13  condicion                             292 non-null    float64\n",
      "dtypes: float64(10), int64(4)\n",
      "memory usage: 34.2 KB\n"
     ]
    }
   ],
   "source": [
    "datos.info()"
   ]
  },
  {
   "cell_type": "markdown",
   "metadata": {},
   "source": [
    "Total de personas diabetes"
   ]
  },
  {
   "cell_type": "code",
   "execution_count": 197,
   "metadata": {},
   "outputs": [
    {
     "data": {
      "text/plain": [
       "condicion\n",
       "0    157\n",
       "1    135\n",
       "Name: count, dtype: int64"
      ]
     },
     "execution_count": 197,
     "metadata": {},
     "output_type": "execute_result"
    }
   ],
   "source": [
    "datos['condicion'].value_counts()"
   ]
  },
  {
   "cell_type": "code",
   "execution_count": 198,
   "metadata": {},
   "outputs": [
    {
     "data": {
      "text/plain": [
       "0     0\n",
       "1     0\n",
       "2     0\n",
       "3     1\n",
       "4     0\n",
       "5     0\n",
       "6     0\n",
       "7     1\n",
       "8     0\n",
       "9     0\n",
       "10    1\n",
       "11    1\n",
       "12    1\n",
       "13    0\n",
       "14    0\n",
       "15    0\n",
       "16    0\n",
       "17    0\n",
       "18    1\n",
       "19    0\n",
       "20    0\n",
       "21    1\n",
       "22    0\n",
       "23    0\n",
       "24    0\n",
       "25    0\n",
       "26    1\n",
       "27    0\n",
       "28    1\n",
       "29    0\n",
       "30    0\n",
       "31    1\n",
       "32    1\n",
       "33    1\n",
       "34    1\n",
       "35    1\n",
       "36    0\n",
       "37    0\n",
       "38    0\n",
       "39    0\n",
       "Name: condicion, dtype: int32"
      ]
     },
     "execution_count": 198,
     "metadata": {},
     "output_type": "execute_result"
    }
   ],
   "source": [
    "datos['condicion'] = datos['condicion'].round().astype(int)\n",
    "datos[('condicion')].head(40)"
   ]
  },
  {
   "cell_type": "markdown",
   "metadata": {},
   "source": [
    "Porcentaje de datos para entrenamiento (train) = 75% y para prueba (test) = 25%\n",
    "Creamos las variables (x) (y) para almacenar la información del entrenamiento"
   ]
  },
  {
   "cell_type": "code",
   "execution_count": 199,
   "metadata": {},
   "outputs": [
    {
     "name": "stdout",
     "output_type": "stream",
     "text": [
      "     edad      sexo  tipo_dolor_pecho  presion_arterial_reposo  colesterol  \\\n",
      "7      61  1.000000          2.158249                      134         234   \n",
      "209    59  0.676768          3.000000                      174         249   \n",
      "212    59  1.000000          3.000000                      138         271   \n",
      "130    48  0.676768          2.000000                      130         275   \n",
      "26     66  1.000000          1.000000                      160         246   \n",
      "..    ...       ...               ...                      ...         ...   \n",
      "114    53  1.000000          2.000000                      130         197   \n",
      "183    63  1.000000          3.000000                      130         330   \n",
      "236    56  1.000000          3.000000                      125         249   \n",
      "282    43  1.000000          3.000000                      120         177   \n",
      "20     40  1.000000          2.158249                      140         199   \n",
      "\n",
      "     azucar_ayunas  resultados_electrocardiograma_reposo  \\\n",
      "7         0.144781                              0.996633   \n",
      "209       0.144781                              0.996633   \n",
      "212       0.144781                              2.000000   \n",
      "130       0.144781                              0.996633   \n",
      "26        0.144781                              0.996633   \n",
      "..             ...                                   ...   \n",
      "114       1.000000                              2.000000   \n",
      "183       1.000000                              2.000000   \n",
      "236       1.000000                              2.000000   \n",
      "282       0.144781                              2.000000   \n",
      "20        0.144781                              0.996633   \n",
      "\n",
      "     frecuencia_cardiaca_maxima  angina_inducida_ejercicio  \\\n",
      "7                           145                   0.326599   \n",
      "209                         143                   1.000000   \n",
      "212                         182                   0.326599   \n",
      "130                         139                   0.326599   \n",
      "26                          120                   1.000000   \n",
      "..                          ...                        ...   \n",
      "114                         152                   0.326599   \n",
      "183                         132                   1.000000   \n",
      "236                         144                   1.000000   \n",
      "282                         120                   1.000000   \n",
      "20                          178                   1.000000   \n",
      "\n",
      "     depresion_st_ejercicio  pendiente_segmento_st  num_vasos_colorados  \\\n",
      "7                  2.600000               1.000000             2.000000   \n",
      "209                1.055556               1.000000             0.676768   \n",
      "212                1.055556               0.602694             0.676768   \n",
      "130                0.200000               0.602694             0.676768   \n",
      "26                 1.055556               1.000000             3.000000   \n",
      "..                      ...                    ...                  ...   \n",
      "114                1.200000               2.000000             0.676768   \n",
      "183                1.800000               0.602694             3.000000   \n",
      "236                1.200000               1.000000             1.000000   \n",
      "282                2.500000               1.000000             0.676768   \n",
      "20                 1.400000               0.602694             0.676768   \n",
      "\n",
      "     defecto_talasemia  \n",
      "7             0.835017  \n",
      "209           0.835017  \n",
      "212           0.835017  \n",
      "130           0.835017  \n",
      "26            1.000000  \n",
      "..                 ...  \n",
      "114           0.835017  \n",
      "183           2.000000  \n",
      "236           0.835017  \n",
      "282           2.000000  \n",
      "20            2.000000  \n",
      "\n",
      "[233 rows x 13 columns]\n"
     ]
    },
    {
     "name": "stderr",
     "output_type": "stream",
     "text": [
      "c:\\Users\\alejo\\anaconda3\\Lib\\site-packages\\sklearn\\utils\\validation.py:605: FutureWarning: is_sparse is deprecated and will be removed in a future version. Check `isinstance(dtype, pd.SparseDtype)` instead.\n",
      "  if is_sparse(pd_dtype):\n",
      "c:\\Users\\alejo\\anaconda3\\Lib\\site-packages\\sklearn\\utils\\validation.py:614: FutureWarning: is_sparse is deprecated and will be removed in a future version. Check `isinstance(dtype, pd.SparseDtype)` instead.\n",
      "  if is_sparse(pd_dtype) or not is_extension_array_dtype(pd_dtype):\n"
     ]
    }
   ],
   "source": [
    "x = datos.drop('condicion', axis=1)\n",
    "y = datos['condicion']\n",
    "\n",
    "x_train, x_test, y_train, y_test = train_test_split(x, y, test_size=0.2, stratify=y, random_state = 0)\n",
    "print(x_train)"
   ]
  },
  {
   "cell_type": "code",
   "execution_count": 200,
   "metadata": {},
   "outputs": [
    {
     "name": "stdout",
     "output_type": "stream",
     "text": [
      "7      1\n",
      "209    1\n",
      "212    0\n",
      "130    0\n",
      "26     1\n",
      "      ..\n",
      "114    0\n",
      "183    1\n",
      "236    1\n",
      "282    1\n",
      "20     0\n",
      "Name: condicion, Length: 233, dtype: int32\n"
     ]
    }
   ],
   "source": [
    "print(y_train)"
   ]
  },
  {
   "cell_type": "markdown",
   "metadata": {},
   "source": [
    "Modelo de regresión logística"
   ]
  },
  {
   "cell_type": "code",
   "execution_count": 201,
   "metadata": {},
   "outputs": [
    {
     "name": "stdout",
     "output_type": "stream",
     "text": [
      "74     1\n",
      "221    1\n",
      "77     0\n",
      "218    0\n",
      "139    0\n",
      "213    1\n",
      "132    0\n",
      "193    1\n",
      "35     1\n",
      "55     0\n",
      "155    1\n",
      "272    0\n",
      "98     1\n",
      "117    0\n",
      "202    1\n",
      "249    0\n",
      "107    0\n",
      "46     0\n",
      "51     0\n",
      "101    0\n",
      "269    1\n",
      "276    0\n",
      "164    1\n",
      "14     0\n",
      "89     0\n",
      "246    1\n",
      "133    1\n",
      "254    0\n",
      "63     0\n",
      "47     0\n",
      "43     0\n",
      "214    1\n",
      "151    0\n",
      "109    0\n",
      "152    0\n",
      "111    0\n",
      "257    1\n",
      "267    1\n",
      "255    1\n",
      "285    0\n",
      "118    0\n",
      "136    1\n",
      "30     0\n",
      "112    0\n",
      "186    1\n",
      "96     1\n",
      "94     0\n",
      "222    1\n",
      "153    0\n",
      "97     0\n",
      "192    1\n",
      "294    1\n",
      "191    0\n",
      "242    1\n",
      "203    1\n",
      "208    1\n",
      "39     0\n",
      "274    1\n",
      "219    1\n",
      "Name: condicion, dtype: int32\n",
      "[1 1 0 0 0 1 0 1 0 0 1 1 1 0 1 0 0 0 0 0 1 0 1 1 0 1 0 1 0 0 0 1 0 0 0 1 0\n",
      " 1 1 0 0 0 0 0 1 0 0 0 0 0 1 1 0 1 1 1 0 1 1]\n"
     ]
    },
    {
     "name": "stderr",
     "output_type": "stream",
     "text": [
      "c:\\Users\\alejo\\anaconda3\\Lib\\site-packages\\sklearn\\utils\\validation.py:767: FutureWarning: is_sparse is deprecated and will be removed in a future version. Check `isinstance(dtype, pd.SparseDtype)` instead.\n",
      "  if not hasattr(array, \"sparse\") and array.dtypes.apply(is_sparse).any():\n",
      "c:\\Users\\alejo\\anaconda3\\Lib\\site-packages\\sklearn\\utils\\validation.py:605: FutureWarning: is_sparse is deprecated and will be removed in a future version. Check `isinstance(dtype, pd.SparseDtype)` instead.\n",
      "  if is_sparse(pd_dtype):\n",
      "c:\\Users\\alejo\\anaconda3\\Lib\\site-packages\\sklearn\\utils\\validation.py:614: FutureWarning: is_sparse is deprecated and will be removed in a future version. Check `isinstance(dtype, pd.SparseDtype)` instead.\n",
      "  if is_sparse(pd_dtype) or not is_extension_array_dtype(pd_dtype):\n",
      "c:\\Users\\alejo\\anaconda3\\Lib\\site-packages\\sklearn\\utils\\validation.py:605: FutureWarning: is_sparse is deprecated and will be removed in a future version. Check `isinstance(dtype, pd.SparseDtype)` instead.\n",
      "  if is_sparse(pd_dtype):\n",
      "c:\\Users\\alejo\\anaconda3\\Lib\\site-packages\\sklearn\\utils\\validation.py:614: FutureWarning: is_sparse is deprecated and will be removed in a future version. Check `isinstance(dtype, pd.SparseDtype)` instead.\n",
      "  if is_sparse(pd_dtype) or not is_extension_array_dtype(pd_dtype):\n",
      "c:\\Users\\alejo\\anaconda3\\Lib\\site-packages\\sklearn\\utils\\validation.py:767: FutureWarning: is_sparse is deprecated and will be removed in a future version. Check `isinstance(dtype, pd.SparseDtype)` instead.\n",
      "  if not hasattr(array, \"sparse\") and array.dtypes.apply(is_sparse).any():\n",
      "c:\\Users\\alejo\\anaconda3\\Lib\\site-packages\\sklearn\\utils\\validation.py:605: FutureWarning: is_sparse is deprecated and will be removed in a future version. Check `isinstance(dtype, pd.SparseDtype)` instead.\n",
      "  if is_sparse(pd_dtype):\n",
      "c:\\Users\\alejo\\anaconda3\\Lib\\site-packages\\sklearn\\utils\\validation.py:614: FutureWarning: is_sparse is deprecated and will be removed in a future version. Check `isinstance(dtype, pd.SparseDtype)` instead.\n",
      "  if is_sparse(pd_dtype) or not is_extension_array_dtype(pd_dtype):\n"
     ]
    }
   ],
   "source": [
    "modelo_regresion = LogisticRegression(solver = 'liblinear')\n",
    "modelo_regresion.fit(x_train, y_train)\n",
    "predict = modelo_regresion.predict(x_test)\n",
    "print(y_test)\n",
    "print(predict)\n"
   ]
  },
  {
   "cell_type": "markdown",
   "metadata": {},
   "source": [
    "Desempeño del modelo de regresión"
   ]
  },
  {
   "cell_type": "code",
   "execution_count": 202,
   "metadata": {},
   "outputs": [
    {
     "name": "stdout",
     "output_type": "stream",
     "text": [
      "              precision    recall  f1-score   support\n",
      "\n",
      "           0       0.82      0.88      0.85        32\n",
      "           1       0.84      0.78      0.81        27\n",
      "\n",
      "    accuracy                           0.83        59\n",
      "   macro avg       0.83      0.83      0.83        59\n",
      "weighted avg       0.83      0.83      0.83        59\n",
      "\n"
     ]
    },
    {
     "name": "stderr",
     "output_type": "stream",
     "text": [
      "c:\\Users\\alejo\\anaconda3\\Lib\\site-packages\\sklearn\\utils\\validation.py:605: FutureWarning: is_sparse is deprecated and will be removed in a future version. Check `isinstance(dtype, pd.SparseDtype)` instead.\n",
      "  if is_sparse(pd_dtype):\n",
      "c:\\Users\\alejo\\anaconda3\\Lib\\site-packages\\sklearn\\utils\\validation.py:614: FutureWarning: is_sparse is deprecated and will be removed in a future version. Check `isinstance(dtype, pd.SparseDtype)` instead.\n",
      "  if is_sparse(pd_dtype) or not is_extension_array_dtype(pd_dtype):\n",
      "c:\\Users\\alejo\\anaconda3\\Lib\\site-packages\\sklearn\\utils\\validation.py:605: FutureWarning: is_sparse is deprecated and will be removed in a future version. Check `isinstance(dtype, pd.SparseDtype)` instead.\n",
      "  if is_sparse(pd_dtype):\n",
      "c:\\Users\\alejo\\anaconda3\\Lib\\site-packages\\sklearn\\utils\\validation.py:614: FutureWarning: is_sparse is deprecated and will be removed in a future version. Check `isinstance(dtype, pd.SparseDtype)` instead.\n",
      "  if is_sparse(pd_dtype) or not is_extension_array_dtype(pd_dtype):\n",
      "c:\\Users\\alejo\\anaconda3\\Lib\\site-packages\\sklearn\\utils\\validation.py:605: FutureWarning: is_sparse is deprecated and will be removed in a future version. Check `isinstance(dtype, pd.SparseDtype)` instead.\n",
      "  if is_sparse(pd_dtype):\n",
      "c:\\Users\\alejo\\anaconda3\\Lib\\site-packages\\sklearn\\utils\\validation.py:614: FutureWarning: is_sparse is deprecated and will be removed in a future version. Check `isinstance(dtype, pd.SparseDtype)` instead.\n",
      "  if is_sparse(pd_dtype) or not is_extension_array_dtype(pd_dtype):\n"
     ]
    }
   ],
   "source": [
    "print(classification_report(y_test, predict))"
   ]
  },
  {
   "cell_type": "markdown",
   "metadata": {},
   "source": [
    "matriz deconfusión del modelo (gráficas)"
   ]
  },
  {
   "cell_type": "code",
   "execution_count": 203,
   "metadata": {},
   "outputs": [
    {
     "name": "stderr",
     "output_type": "stream",
     "text": [
      "c:\\Users\\alejo\\anaconda3\\Lib\\site-packages\\sklearn\\utils\\validation.py:605: FutureWarning: is_sparse is deprecated and will be removed in a future version. Check `isinstance(dtype, pd.SparseDtype)` instead.\n",
      "  if is_sparse(pd_dtype):\n",
      "c:\\Users\\alejo\\anaconda3\\Lib\\site-packages\\sklearn\\utils\\validation.py:614: FutureWarning: is_sparse is deprecated and will be removed in a future version. Check `isinstance(dtype, pd.SparseDtype)` instead.\n",
      "  if is_sparse(pd_dtype) or not is_extension_array_dtype(pd_dtype):\n",
      "c:\\Users\\alejo\\anaconda3\\Lib\\site-packages\\sklearn\\utils\\validation.py:605: FutureWarning: is_sparse is deprecated and will be removed in a future version. Check `isinstance(dtype, pd.SparseDtype)` instead.\n",
      "  if is_sparse(pd_dtype):\n",
      "c:\\Users\\alejo\\anaconda3\\Lib\\site-packages\\sklearn\\utils\\validation.py:614: FutureWarning: is_sparse is deprecated and will be removed in a future version. Check `isinstance(dtype, pd.SparseDtype)` instead.\n",
      "  if is_sparse(pd_dtype) or not is_extension_array_dtype(pd_dtype):\n",
      "c:\\Users\\alejo\\anaconda3\\Lib\\site-packages\\sklearn\\utils\\validation.py:605: FutureWarning: is_sparse is deprecated and will be removed in a future version. Check `isinstance(dtype, pd.SparseDtype)` instead.\n",
      "  if is_sparse(pd_dtype):\n",
      "c:\\Users\\alejo\\anaconda3\\Lib\\site-packages\\sklearn\\utils\\validation.py:614: FutureWarning: is_sparse is deprecated and will be removed in a future version. Check `isinstance(dtype, pd.SparseDtype)` instead.\n",
      "  if is_sparse(pd_dtype) or not is_extension_array_dtype(pd_dtype):\n"
     ]
    },
    {
     "data": {
      "text/plain": [
       "<sklearn.metrics._plot.confusion_matrix.ConfusionMatrixDisplay at 0x2633f8b6450>"
      ]
     },
     "execution_count": 203,
     "metadata": {},
     "output_type": "execute_result"
    },
    {
     "data": {
      "image/png": "[encoded data removed]",
      "text/plain": [
       "<Figure size 640x480 with 2 Axes>"
      ]
     },
     "metadata": {},
     "output_type": "display_data"
    }
   ],
   "source": [
    "cm=confusion_matrix(y_test, predict)\n",
    "disp=metrics.ConfusionMatrixDisplay(confusion_matrix=cm)\n",
    "disp.plot()\n",
    "\n"
   ]
  },
  {
   "cell_type": "markdown",
   "metadata": {},
   "source": [
    "Curva de precisión del modelo"
   ]
  },
  {
   "cell_type": "code",
   "execution_count": 204,
   "metadata": {},
   "outputs": [
    {
     "name": "stderr",
     "output_type": "stream",
     "text": [
      "c:\\Users\\alejo\\anaconda3\\Lib\\site-packages\\sklearn\\utils\\validation.py:605: FutureWarning: is_sparse is deprecated and will be removed in a future version. Check `isinstance(dtype, pd.SparseDtype)` instead.\n",
      "  if is_sparse(pd_dtype):\n",
      "c:\\Users\\alejo\\anaconda3\\Lib\\site-packages\\sklearn\\utils\\validation.py:614: FutureWarning: is_sparse is deprecated and will be removed in a future version. Check `isinstance(dtype, pd.SparseDtype)` instead.\n",
      "  if is_sparse(pd_dtype) or not is_extension_array_dtype(pd_dtype):\n",
      "c:\\Users\\alejo\\anaconda3\\Lib\\site-packages\\sklearn\\utils\\validation.py:605: FutureWarning: is_sparse is deprecated and will be removed in a future version. Check `isinstance(dtype, pd.SparseDtype)` instead.\n",
      "  if is_sparse(pd_dtype):\n",
      "c:\\Users\\alejo\\anaconda3\\Lib\\site-packages\\sklearn\\utils\\validation.py:614: FutureWarning: is_sparse is deprecated and will be removed in a future version. Check `isinstance(dtype, pd.SparseDtype)` instead.\n",
      "  if is_sparse(pd_dtype) or not is_extension_array_dtype(pd_dtype):\n",
      "c:\\Users\\alejo\\anaconda3\\Lib\\site-packages\\sklearn\\utils\\validation.py:605: FutureWarning: is_sparse is deprecated and will be removed in a future version. Check `isinstance(dtype, pd.SparseDtype)` instead.\n",
      "  if is_sparse(pd_dtype):\n",
      "c:\\Users\\alejo\\anaconda3\\Lib\\site-packages\\sklearn\\utils\\validation.py:614: FutureWarning: is_sparse is deprecated and will be removed in a future version. Check `isinstance(dtype, pd.SparseDtype)` instead.\n",
      "  if is_sparse(pd_dtype) or not is_extension_array_dtype(pd_dtype):\n"
     ]
    },
    {
     "data": {
      "image/png": "[encoded data removed]",
      "text/plain": [
       "<Figure size 640x480 with 1 Axes>"
      ]
     },
     "metadata": {},
     "output_type": "display_data"
    }
   ],
   "source": [
    "from sklearn.metrics import RocCurveDisplay\n",
    "RocCurveDisplay.from_predictions(y_test, predict)\n",
    "plt.show()"
   ]
  }
 ],
 "metadata": {
  "kernelspec": {
   "display_name": "base",
   "language": "python",
   "name": "python3"
  },
  "language_info": {
   "codemirror_mode": {
    "name": "ipython",
    "version": 3
   },
   "file_extension": ".py",
   "mimetype": "text/x-python",
   "name": "python",
   "nbconvert_exporter": "python",
   "pygments_lexer": "ipython3",
   "version": "3.11.7"
  }
 },
 "nbformat": 4,
 "nbformat_minor": 2
}
